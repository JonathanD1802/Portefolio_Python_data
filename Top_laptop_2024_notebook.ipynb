{
 "cells": [
  {
   "cell_type": "markdown",
   "id": "69193e7e-df79-4b9f-b679-aebf1adae3a1",
   "metadata": {},
   "source": [
    "# Top_laptop_2024 Project (Beginner project)\n",
    "This project aims to analyze the most popular laptops purchased in 2024.\n",
    "Throughout the project we will looking for answering the following questions : \n",
    "1. What is the most popular brand ?✔\n",
    "       -Is it the same brand that have the most reviews and have the best mark?✔\n",
    "2. how much is the average laptop cost ?✔\n",
    "3. how much is the cheapest laptop ?✔\n",
    "4. how much is the most expensive laptop ?✔\n",
    "5. What review and marks do they have ?  ✔\n",
    "\n",
    "To answer these questions, we will need to clean up the dataset from useless informations.\n",
    "however, it might be useful to save the original dataframe for any analyze we would have to do in the future. "
   ]
  },
  {
   "cell_type": "markdown",
   "id": "55f72769-92ab-40a6-a592-d72a62a5c87b",
   "metadata": {},
   "source": [
    "First we have to import the dataset and looking for column's informations."
   ]
  },
  {
   "cell_type": "code",
   "execution_count": 122,
   "id": "683a71ff-dc8d-4b38-a1b9-c372e3588ab5",
   "metadata": {},
   "outputs": [
    {
     "name": "stdout",
     "output_type": "stream",
     "text": [
      "<class 'pandas.core.frame.DataFrame'>\n",
      "RangeIndex: 489 entries, 0 to 488\n",
      "Data columns (total 10 columns):\n",
      " #   Column                       Non-Null Count  Dtype  \n",
      "---  ------                       --------------  -----  \n",
      " 0   brand                        489 non-null    object \n",
      " 1   model                        488 non-null    object \n",
      " 2   aggregateRating/ratingValue  357 non-null    float64\n",
      " 3   aggregateRating/reviewCount  357 non-null    float64\n",
      " 4   offers/price                 262 non-null    float64\n",
      " 5   offers/priceCurrency         489 non-null    object \n",
      " 6   depth                        431 non-null    float64\n",
      " 7   width                        431 non-null    float64\n",
      " 8   features/0/description       486 non-null    object \n",
      " 9   features/1/description       483 non-null    object \n",
      "dtypes: float64(5), object(5)\n",
      "memory usage: 38.3+ KB\n"
     ]
    }
   ],
   "source": [
    "import pandas as pd\n",
    "laptops_2024 = pd.read_csv('best_buy_laptops_2024.csv')\n",
    "\n",
    "laptops_2024.info()"
   ]
  },
  {
   "cell_type": "markdown",
   "id": "1726a40e-a5a3-44b4-ba2b-83dfb60e2910",
   "metadata": {},
   "source": [
    "Now that we have the informations, we can clean up the dataframe. \n",
    "The first thing that we notice is the name of some columns that aren't relevant or too long, perhaps we can change them. "
   ]
  },
  {
   "cell_type": "code",
   "execution_count": 123,
   "id": "342f5101-1be6-4db6-b7d8-2ac3ea52d685",
   "metadata": {},
   "outputs": [
    {
     "name": "stdout",
     "output_type": "stream",
     "text": [
      "<class 'pandas.core.frame.DataFrame'>\n",
      "RangeIndex: 489 entries, 0 to 488\n",
      "Data columns (total 10 columns):\n",
      " #   Column                  Non-Null Count  Dtype  \n",
      "---  ------                  --------------  -----  \n",
      " 0   brand                   489 non-null    object \n",
      " 1   model                   488 non-null    object \n",
      " 2   rating                  357 non-null    float64\n",
      " 3   reviewCount             357 non-null    float64\n",
      " 4   price                   262 non-null    float64\n",
      " 5   currency                489 non-null    object \n",
      " 6   depth                   431 non-null    float64\n",
      " 7   width                   431 non-null    float64\n",
      " 8   features/0/description  486 non-null    object \n",
      " 9   features/1/description  483 non-null    object \n",
      "dtypes: float64(5), object(5)\n",
      "memory usage: 38.3+ KB\n"
     ]
    }
   ],
   "source": [
    "#Let's rename the column's name. \n",
    "new_names = {\n",
    "    'aggregateRating/ratingValue' : 'rating', \n",
    "    'aggregateRating/reviewCount' : 'reviewCount', \n",
    "    'offers/price' : 'price', \n",
    "    'offers/priceCurrency' : 'currency', \n",
    "}\n",
    "#We'll take a closer look at the 8 and 9 columns on the cells below\n",
    "laptops_2024 = laptops_2024.rename(\n",
    "    mapper = new_names, \n",
    "    axis = 1,\n",
    ")\n",
    "laptops_2024.info()\n"
   ]
  },
  {
   "cell_type": "markdown",
   "id": "7d591585-c302-4934-bf09-7424eb09698f",
   "metadata": {},
   "source": [
    "The second noticeable thing is the 8 and 9 columns that seem to be the same...Maybe we can concatenate them into one called \"description & features\""
   ]
  },
  {
   "cell_type": "code",
   "execution_count": 124,
   "id": "c9db1ea6-379e-49f6-9f13-617a5212a270",
   "metadata": {},
   "outputs": [
    {
     "name": "stdout",
     "output_type": "stream",
     "text": [
      "<class 'pandas.core.frame.DataFrame'>\n",
      "RangeIndex: 489 entries, 0 to 488\n",
      "Data columns (total 9 columns):\n",
      " #   Column                  Non-Null Count  Dtype  \n",
      "---  ------                  --------------  -----  \n",
      " 0   brand                   489 non-null    object \n",
      " 1   model                   488 non-null    object \n",
      " 2   rating                  357 non-null    float64\n",
      " 3   reviewCount             357 non-null    float64\n",
      " 4   price                   262 non-null    float64\n",
      " 5   currency                489 non-null    object \n",
      " 6   depth                   431 non-null    float64\n",
      " 7   width                   431 non-null    float64\n",
      " 8   description & features  481 non-null    object \n",
      "dtypes: float64(5), object(4)\n",
      "memory usage: 34.5+ KB\n"
     ]
    }
   ],
   "source": [
    "laptops_2024['description & features'] = laptops_2024['features/0/description'].str.cat(\n",
    "    laptops_2024['features/1/description'], sep=' + '\n",
    ")\n",
    "# Since the two columns have been concatenated in one, we can safely drop the former ones\n",
    "column_drop = ['features/0/description', 'features/1/description']\n",
    "laptops_2024 = laptops_2024.drop(\n",
    "    labels=column_drop, \n",
    "    axis=1\n",
    ")\n",
    "\n",
    "laptops_2024.info()"
   ]
  },
  {
   "cell_type": "markdown",
   "id": "82914626-6ac4-4783-85bb-3edbb7a83c02",
   "metadata": {},
   "source": [
    "# Dataframe Brand creation\n",
    "Now that we have renamed and dropped the useless columns, I suggest that we create another dataframe separate from the original. \n",
    "This dataframe's aim is to help us analyze the questions about the laptops' brand.\n"
   ]
  },
  {
   "cell_type": "code",
   "execution_count": 125,
   "id": "4da063c0-2f7f-4a13-ae3e-d6c49c31579a",
   "metadata": {},
   "outputs": [
    {
     "name": "stdout",
     "output_type": "stream",
     "text": [
      "<class 'pandas.core.frame.DataFrame'>\n",
      "RangeIndex: 489 entries, 0 to 488\n",
      "Data columns (total 9 columns):\n",
      " #   Column                  Non-Null Count  Dtype  \n",
      "---  ------                  --------------  -----  \n",
      " 0   brand                   489 non-null    object \n",
      " 1   model                   488 non-null    object \n",
      " 2   rating                  357 non-null    float64\n",
      " 3   reviewCount             357 non-null    float64\n",
      " 4   price                   262 non-null    float64\n",
      " 5   currency                489 non-null    object \n",
      " 6   depth                   431 non-null    float64\n",
      " 7   width                   431 non-null    float64\n",
      " 8   description & features  481 non-null    object \n",
      "dtypes: float64(5), object(4)\n",
      "memory usage: 34.5+ KB\n"
     ]
    }
   ],
   "source": [
    "laptops_brand_analyze = laptops_2024\n",
    "\n",
    "laptops_brand_analyze.info()"
   ]
  },
  {
   "cell_type": "markdown",
   "id": "71bd1e38-bddc-48c0-b9d6-bb3b60638a0f",
   "metadata": {},
   "source": [
    "Now, let's drop the useless series like : \n",
    "- descriptions & features\n",
    "- depth\n",
    "- width\n",
    "- currency\n",
    "- price\n",
    "\n",
    "\n",
    "To make our new dataframe a little bit more cleaner"
   ]
  },
  {
   "cell_type": "code",
   "execution_count": 126,
   "id": "cb4dc362-80a9-4eb1-b2b0-1ddd63bcd570",
   "metadata": {},
   "outputs": [
    {
     "name": "stdout",
     "output_type": "stream",
     "text": [
      "<class 'pandas.core.frame.DataFrame'>\n",
      "RangeIndex: 489 entries, 0 to 488\n",
      "Data columns (total 4 columns):\n",
      " #   Column       Non-Null Count  Dtype  \n",
      "---  ------       --------------  -----  \n",
      " 0   brand        489 non-null    object \n",
      " 1   model        488 non-null    object \n",
      " 2   rating       357 non-null    float64\n",
      " 3   reviewCount  357 non-null    float64\n",
      "dtypes: float64(2), object(2)\n",
      "memory usage: 15.4+ KB\n"
     ]
    }
   ],
   "source": [
    "drop_columns = ['price','currency','depth','width', 'description & features' ]\n",
    "\n",
    "laptops_brand_analyze = laptops_brand_analyze.drop(\n",
    "    labels = drop_columns,\n",
    "    axis=1\n",
    ")\n",
    "\n",
    "laptops_brand_analyze.info()"
   ]
  },
  {
   "cell_type": "markdown",
   "id": "e7c4682e-e052-4291-b57d-3833c36ead0d",
   "metadata": {},
   "source": [
    "# Brand comparison\n",
    "Nice, know we can focus on the first question : \n",
    "Which brand is the most popular. \n",
    "To answer this question, we can simply use the value_counts() method. "
   ]
  },
  {
   "cell_type": "code",
   "execution_count": 128,
   "id": "682a6c25-b3d0-4f4a-84f4-bd15552784df",
   "metadata": {},
   "outputs": [
    {
     "data": {
      "text/plain": [
       "brand\n",
       "Lenovo       99\n",
       "Dell         83\n",
       "HP           68\n",
       "ASUS         63\n",
       "Microsoft    51\n",
       "Acer         32\n",
       "MSI          22\n",
       "Razer        22\n",
       "GIGABYTE     14\n",
       "Samsung      13\n",
       "LG            9\n",
       "Alienware     6\n",
       "HP OMEN       6\n",
       "Thomson       1\n",
       "Name: count, dtype: int64"
      ]
     },
     "execution_count": 128,
     "metadata": {},
     "output_type": "execute_result"
    }
   ],
   "source": [
    "laptops_brand_analyze['brand'].value_counts()"
   ]
  },
  {
   "cell_type": "markdown",
   "id": "94573afb-c8cc-4362-b3b6-026ae7a366c1",
   "metadata": {},
   "source": [
    "From our request, we can observe that Lenovo tends to be the most popular brand on the market in 2024. \n",
    "But is it the most rated and reviewed brand ? \n",
    "Let's investigate"
   ]
  },
  {
   "cell_type": "code",
   "execution_count": 129,
   "id": "98f96c80-e731-4f59-b892-edafbd17feb6",
   "metadata": {},
   "outputs": [],
   "source": [
    "laptop_brand_rating = (laptops_brand_analyze['rating'] == laptops_brand_analyze['rating'].max())\n",
    "laptop_brand_review = (laptops_brand_analyze['reviewCount'] == laptops_brand_analyze['reviewCount'].max())\n",
    "\n",
    "best_rating_score = laptops_brand_analyze[laptop_brand_rating]\n",
    "best_review_score = laptops_brand_analyze[laptop_brand_review]"
   ]
  },
  {
   "cell_type": "markdown",
   "id": "feb033e7-dee4-4584-9ab9-c22d19b1a484",
   "metadata": {},
   "source": [
    "Now that we have filtered the rating and review scores on two news dataframes, we can apply the same process than for the popularity brand. \n",
    "With the values_count() methods, we will be able to establish a tendancy if lenove received both max rating and review scores. "
   ]
  },
  {
   "cell_type": "code",
   "execution_count": 130,
   "id": "af017e78-8141-421f-b6e2-78fce2fb9a15",
   "metadata": {},
   "outputs": [
    {
     "name": "stdout",
     "output_type": "stream",
     "text": [
      "Best rating score\n",
      "brand\n",
      "ASUS         11\n",
      "Dell         11\n",
      "Lenovo       10\n",
      "HP           10\n",
      "Razer         5\n",
      "Acer          5\n",
      "Microsoft     3\n",
      "LG            2\n",
      "GIGABYTE      2\n",
      "HP OMEN       1\n",
      "Thomson       1\n",
      "Name: count, dtype: int64\n",
      "\n",
      "Best review score\n",
      "brand\n",
      "HP    3\n",
      "Name: count, dtype: int64\n"
     ]
    }
   ],
   "source": [
    "print('Best rating score')\n",
    "print(best_rating_score['brand'].value_counts())\n",
    "print()\n",
    "print('Best review score')\n",
    "print(best_review_score['brand'].value_counts())"
   ]
  },
  {
   "cell_type": "markdown",
   "id": "45a3f04c-5835-4cdf-b46e-a3604146ba51",
   "metadata": {},
   "source": [
    "From that analyze, we can observe that lenovo does not have neither the best rating score nor the best reviews score.  \n",
    "therefore, we can observe the following conclusion : \n",
    "1. lenovo is the most popular brand from purchased laptop in 2024. \n",
    "2. Asus and Dell have the best rating score meanwhile Lenovo is only second with HP. \n",
    "3. HP have the best reviewing score. \n"
   ]
  },
  {
   "cell_type": "markdown",
   "id": "2d799a8f-b8a9-428f-ab2a-8b427508ef5b",
   "metadata": {},
   "source": [
    "# Laptop cost Information\n",
    "\n",
    "Now let's focus on the laptop cost. The following topic will allow us to answer the average, cheapest and highest laptop cost. \n",
    "we are going to take back the original dataframe  : laptop_2024"
   ]
  },
  {
   "cell_type": "code",
   "execution_count": 131,
   "id": "7f4a105c-33e4-4c81-b98e-653363c02b2f",
   "metadata": {},
   "outputs": [
    {
     "data": {
      "text/plain": [
       "count     262.00\n",
       "mean     1159.04\n",
       "std       782.61\n",
       "min       143.99\n",
       "25%       639.99\n",
       "50%       959.99\n",
       "75%      1494.99\n",
       "max      4489.99\n",
       "Name: price, dtype: float64"
      ]
     },
     "execution_count": 131,
     "metadata": {},
     "output_type": "execute_result"
    }
   ],
   "source": [
    "laptops_2024['price'].describe().round(decimals=2)"
   ]
  },
  {
   "cell_type": "markdown",
   "id": "55da6c2a-efb5-4e07-b89e-a3789e0ebac3",
   "metadata": {},
   "source": [
    "From that request, pandas provide us with the following observations : \n",
    "1. the average cost is equal : 1159.04\n",
    "2. the laptop that is the most expensive cost :  4489.99\n",
    "3. the laptop that is the cheapest cost : 143.99"
   ]
  },
  {
   "cell_type": "markdown",
   "id": "eee39daf-9704-46e1-a40f-60048730dfba",
   "metadata": {},
   "source": [
    "# Cheapest and most expensive laptop\n",
    "Now that we have the wanted informations about the cost, let's see the laptops caracteristics according to the lowest and highest price."
   ]
  },
  {
   "cell_type": "code",
   "execution_count": 137,
   "id": "3437a691-3bed-4829-83a2-9c6ecf1c4b52",
   "metadata": {},
   "outputs": [
    {
     "name": "stdout",
     "output_type": "stream",
     "text": [
      "Cheapest laptop in 2024 : \n",
      "\n",
      "      brand       model  rating  reviewCount   price currency  depth  width  \\\n",
      "176  Lenovo  82LV003WUS     3.0          2.0  143.99      USD   9.29  14.18   \n",
      "\n",
      "                      description & features  \n",
      "176  4GB Soldered DDR4-2933 + 128GB eMMC 5.1  \n",
      "\n",
      "Most expensive laptop in 2024 : \n",
      "\n",
      "    brand  model  rating  reviewCount    price currency  depth  width  \\\n",
      "335  Dell  3GCR6     1.0          1.0  4489.99      USD   10.0   15.0   \n",
      "\n",
      "                                description & features  \n",
      "335  Microsoft Windows 11 Pro gives you a user-frie...  \n"
     ]
    }
   ],
   "source": [
    "expensive_statement = (laptops_2024['price'] == laptops_2024['price'].max())\n",
    "cheapest_statement = (laptops_2024['price'] == laptops_2024['price'].min())\n",
    "\n",
    "most_expensive_laptop = laptops_2024[expensive_statement]\n",
    "cheapest_laptop = laptops_2024[cheapest_statement]\n",
    "\n",
    "#Let's print out the cheapest and most expensive 2024 laptops\n",
    "print('Cheapest laptop in 2024 : \\n')\n",
    "print(cheapest_laptop)\n",
    "print()\n",
    "print('Most expensive laptop in 2024 : \\n')\n",
    "print(most_expensive_laptop)"
   ]
  },
  {
   "cell_type": "markdown",
   "id": "0b5cd103-d7cb-4f05-828c-fe7be6ea5aa2",
   "metadata": {},
   "source": [
    "The request reveal the following informations : \n",
    "1. The Lenovo 82LV003WUS is the cheapest laptop with a 3.0 rating score and a 2.0 reviewing score.\n",
    "2. The Dell 3GCR6 is the most expensive laptop with a 1.0 rating score and a 1.0 reviewing score."
   ]
  },
  {
   "cell_type": "markdown",
   "id": "acbd96bc-9517-432a-96cf-48f6f4f9a98b",
   "metadata": {},
   "source": [
    "# Conclusion\n",
    "This beginner project leads us on observations about the laptop's brand popularity and laptop's cost. \n",
    "with the given dataset, we can conclude :\n",
    "## About the brand :\n",
    "1. Lenovo is the brand that sells most laptops in 2024.\n",
    "2. Asus and Dell have the best rating score meanwhile Lenovo is only second with HP.\n",
    "3. HP have the best reviewing score.\n",
    "\n",
    "## About laptop's price : \n",
    "1. The average laptop's cost is about 1159.04 dollar\n",
    "2. The cheapest laptop cost 143.99 dollar\n",
    "3. The most expensive laptop cost 4489.99 dollar\n",
    "4. Lenovo 82LV003WUS is the cheapest laptop with a 3.0 rating score and a 2.0 reviewing score.\n",
    "5. The Dell 3GCR6 is the most expensive laptop with a 1.0 rating score and a 1.0 reviewing score.\n"
   ]
  },
  {
   "cell_type": "code",
   "execution_count": null,
   "id": "a71de328-6f5a-4762-94be-03610b170c36",
   "metadata": {},
   "outputs": [],
   "source": []
  }
 ],
 "metadata": {
  "kernelspec": {
   "display_name": "Python 3 (ipykernel)",
   "language": "python",
   "name": "python3"
  },
  "language_info": {
   "codemirror_mode": {
    "name": "ipython",
    "version": 3
   },
   "file_extension": ".py",
   "mimetype": "text/x-python",
   "name": "python",
   "nbconvert_exporter": "python",
   "pygments_lexer": "ipython3",
   "version": "3.11.2"
  }
 },
 "nbformat": 4,
 "nbformat_minor": 5
}
